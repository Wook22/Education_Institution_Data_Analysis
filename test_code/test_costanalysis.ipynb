{
 "cells": [
  {
   "cell_type": "code",
   "execution_count": 179,
   "metadata": {},
   "outputs": [],
   "source": [
    "import pandas as pd\n",
    "import matplotlib.pyplot as plt\n",
    "import warnings\n",
    "import hvplot.pandas\n",
    "warnings.filterwarnings(\"ignore\")\n",
    "import numpy as np\n",
    "import scipy.stats as st\n",
    "from scipy.stats import ttest_ind"
   ]
  },
  {
   "cell_type": "code",
   "execution_count": 26,
   "metadata": {},
   "outputs": [],
   "source": [
    "test_df = pd.read_csv(\"data/MERGED2021_22_PP.csv\",low_memory=False)"
   ]
  },
  {
   "cell_type": "code",
   "execution_count": 4,
   "metadata": {},
   "outputs": [
    {
     "data": {
      "text/html": [
       "<div>\n",
       "<style scoped>\n",
       "    .dataframe tbody tr th:only-of-type {\n",
       "        vertical-align: middle;\n",
       "    }\n",
       "\n",
       "    .dataframe tbody tr th {\n",
       "        vertical-align: top;\n",
       "    }\n",
       "\n",
       "    .dataframe thead th {\n",
       "        text-align: right;\n",
       "    }\n",
       "</style>\n",
       "<table border=\"1\" class=\"dataframe\">\n",
       "  <thead>\n",
       "    <tr style=\"text-align: right;\">\n",
       "      <th></th>\n",
       "      <th>UNITID</th>\n",
       "      <th>INSTNM</th>\n",
       "      <th>CONTROL</th>\n",
       "      <th>OPENADMP</th>\n",
       "      <th>ADM_RATE</th>\n",
       "      <th>ADM_RATE_ALL</th>\n",
       "      <th>COSTT4_A</th>\n",
       "      <th>COSTT4_P</th>\n",
       "    </tr>\n",
       "  </thead>\n",
       "  <tbody>\n",
       "    <tr>\n",
       "      <th>0</th>\n",
       "      <td>100654</td>\n",
       "      <td>Alabama A &amp; M University</td>\n",
       "      <td>1</td>\n",
       "      <td>2.0</td>\n",
       "      <td>0.7160</td>\n",
       "      <td>0.716006</td>\n",
       "      <td>21924.0</td>\n",
       "      <td>NaN</td>\n",
       "    </tr>\n",
       "    <tr>\n",
       "      <th>1</th>\n",
       "      <td>100663</td>\n",
       "      <td>University of Alabama at Birmingham</td>\n",
       "      <td>1</td>\n",
       "      <td>2.0</td>\n",
       "      <td>0.8854</td>\n",
       "      <td>0.885352</td>\n",
       "      <td>26248.0</td>\n",
       "      <td>NaN</td>\n",
       "    </tr>\n",
       "    <tr>\n",
       "      <th>2</th>\n",
       "      <td>100690</td>\n",
       "      <td>Amridge University</td>\n",
       "      <td>2</td>\n",
       "      <td>1.0</td>\n",
       "      <td>NaN</td>\n",
       "      <td>NaN</td>\n",
       "      <td>NaN</td>\n",
       "      <td>NaN</td>\n",
       "    </tr>\n",
       "    <tr>\n",
       "      <th>3</th>\n",
       "      <td>100706</td>\n",
       "      <td>University of Alabama in Huntsville</td>\n",
       "      <td>1</td>\n",
       "      <td>2.0</td>\n",
       "      <td>0.7367</td>\n",
       "      <td>0.736724</td>\n",
       "      <td>24869.0</td>\n",
       "      <td>NaN</td>\n",
       "    </tr>\n",
       "    <tr>\n",
       "      <th>4</th>\n",
       "      <td>100724</td>\n",
       "      <td>Alabama State University</td>\n",
       "      <td>1</td>\n",
       "      <td>2.0</td>\n",
       "      <td>0.9799</td>\n",
       "      <td>0.979913</td>\n",
       "      <td>21938.0</td>\n",
       "      <td>NaN</td>\n",
       "    </tr>\n",
       "  </tbody>\n",
       "</table>\n",
       "</div>"
      ],
      "text/plain": [
       "   UNITID                               INSTNM  CONTROL  OPENADMP  ADM_RATE  \\\n",
       "0  100654             Alabama A & M University        1       2.0    0.7160   \n",
       "1  100663  University of Alabama at Birmingham        1       2.0    0.8854   \n",
       "2  100690                   Amridge University        2       1.0       NaN   \n",
       "3  100706  University of Alabama in Huntsville        1       2.0    0.7367   \n",
       "4  100724             Alabama State University        1       2.0    0.9799   \n",
       "\n",
       "   ADM_RATE_ALL  COSTT4_A  COSTT4_P  \n",
       "0      0.716006   21924.0       NaN  \n",
       "1      0.885352   26248.0       NaN  \n",
       "2           NaN       NaN       NaN  \n",
       "3      0.736724   24869.0       NaN  \n",
       "4      0.979913   21938.0       NaN  "
      ]
     },
     "execution_count": 4,
     "metadata": {},
     "output_type": "execute_result"
    }
   ],
   "source": [
    "select_columns = test_df[[\"UNITID\", \"INSTNM\", \"CONTROL\", \"OPENADMP\", \n",
    "                          \"ADM_RATE\", \"ADM_RATE_ALL\", \"COSTT4_A\", \"COSTT4_P\"]]\n",
    "select_columns.head(5)\n"
   ]
  },
  {
   "cell_type": "code",
   "execution_count": 5,
   "metadata": {},
   "outputs": [
    {
     "data": {
      "text/html": [
       "<div>\n",
       "<style scoped>\n",
       "    .dataframe tbody tr th:only-of-type {\n",
       "        vertical-align: middle;\n",
       "    }\n",
       "\n",
       "    .dataframe tbody tr th {\n",
       "        vertical-align: top;\n",
       "    }\n",
       "\n",
       "    .dataframe thead th {\n",
       "        text-align: right;\n",
       "    }\n",
       "</style>\n",
       "<table border=\"1\" class=\"dataframe\">\n",
       "  <thead>\n",
       "    <tr style=\"text-align: right;\">\n",
       "      <th></th>\n",
       "      <th>UNITID</th>\n",
       "      <th>INSTNM</th>\n",
       "      <th>CONTROL</th>\n",
       "      <th>OPENADMP</th>\n",
       "      <th>ADM_RATE</th>\n",
       "      <th>ADM_RATE_ALL</th>\n",
       "      <th>COSTT4_A</th>\n",
       "      <th>COSTT4_P</th>\n",
       "    </tr>\n",
       "  </thead>\n",
       "  <tbody>\n",
       "    <tr>\n",
       "      <th>0</th>\n",
       "      <td>100654</td>\n",
       "      <td>Alabama A &amp; M University</td>\n",
       "      <td>1</td>\n",
       "      <td>2.0</td>\n",
       "      <td>0.7160</td>\n",
       "      <td>0.716006</td>\n",
       "      <td>21924.0</td>\n",
       "      <td>NaN</td>\n",
       "    </tr>\n",
       "    <tr>\n",
       "      <th>1</th>\n",
       "      <td>100663</td>\n",
       "      <td>University of Alabama at Birmingham</td>\n",
       "      <td>1</td>\n",
       "      <td>2.0</td>\n",
       "      <td>0.8854</td>\n",
       "      <td>0.885352</td>\n",
       "      <td>26248.0</td>\n",
       "      <td>NaN</td>\n",
       "    </tr>\n",
       "    <tr>\n",
       "      <th>2</th>\n",
       "      <td>100690</td>\n",
       "      <td>Amridge University</td>\n",
       "      <td>2</td>\n",
       "      <td>1.0</td>\n",
       "      <td>NaN</td>\n",
       "      <td>NaN</td>\n",
       "      <td>NaN</td>\n",
       "      <td>NaN</td>\n",
       "    </tr>\n",
       "    <tr>\n",
       "      <th>3</th>\n",
       "      <td>100706</td>\n",
       "      <td>University of Alabama in Huntsville</td>\n",
       "      <td>1</td>\n",
       "      <td>2.0</td>\n",
       "      <td>0.7367</td>\n",
       "      <td>0.736724</td>\n",
       "      <td>24869.0</td>\n",
       "      <td>NaN</td>\n",
       "    </tr>\n",
       "    <tr>\n",
       "      <th>4</th>\n",
       "      <td>100724</td>\n",
       "      <td>Alabama State University</td>\n",
       "      <td>1</td>\n",
       "      <td>2.0</td>\n",
       "      <td>0.9799</td>\n",
       "      <td>0.979913</td>\n",
       "      <td>21938.0</td>\n",
       "      <td>NaN</td>\n",
       "    </tr>\n",
       "  </tbody>\n",
       "</table>\n",
       "</div>"
      ],
      "text/plain": [
       "   UNITID                               INSTNM  CONTROL  OPENADMP  ADM_RATE  \\\n",
       "0  100654             Alabama A & M University        1       2.0    0.7160   \n",
       "1  100663  University of Alabama at Birmingham        1       2.0    0.8854   \n",
       "2  100690                   Amridge University        2       1.0       NaN   \n",
       "3  100706  University of Alabama in Huntsville        1       2.0    0.7367   \n",
       "4  100724             Alabama State University        1       2.0    0.9799   \n",
       "\n",
       "   ADM_RATE_ALL  COSTT4_A  COSTT4_P  \n",
       "0      0.716006   21924.0       NaN  \n",
       "1      0.885352   26248.0       NaN  \n",
       "2           NaN       NaN       NaN  \n",
       "3      0.736724   24869.0       NaN  \n",
       "4      0.979913   21938.0       NaN  "
      ]
     },
     "execution_count": 5,
     "metadata": {},
     "output_type": "execute_result"
    }
   ],
   "source": [
    "# verifying that if there are null values for admission rate then it is a open adm college\n",
    "indexadm = select_columns[ (select_columns['ADM_RATE'] == 'NaN') & (select_columns['ADM_RATE_ALL'] == 'NaN') & \n",
    "                          (select_columns['OPENADMP'] == 2.0) & (select_columns['OPENADMP'] == 3.0) ].index\n",
    "adm_df = select_columns.drop(indexadm)\n",
    "adm_df.head(5)\n"
   ]
  },
  {
   "cell_type": "code",
   "execution_count": 6,
   "metadata": {},
   "outputs": [
    {
     "data": {
      "text/html": [
       "<div>\n",
       "<style scoped>\n",
       "    .dataframe tbody tr th:only-of-type {\n",
       "        vertical-align: middle;\n",
       "    }\n",
       "\n",
       "    .dataframe tbody tr th {\n",
       "        vertical-align: top;\n",
       "    }\n",
       "\n",
       "    .dataframe thead th {\n",
       "        text-align: right;\n",
       "    }\n",
       "</style>\n",
       "<table border=\"1\" class=\"dataframe\">\n",
       "  <thead>\n",
       "    <tr style=\"text-align: right;\">\n",
       "      <th></th>\n",
       "      <th>UNITID</th>\n",
       "      <th>INSTNM</th>\n",
       "      <th>CONTROL</th>\n",
       "      <th>OPENADMP</th>\n",
       "      <th>ADM_RATE</th>\n",
       "      <th>ADM_RATE_ALL</th>\n",
       "      <th>COSTT4_A</th>\n",
       "      <th>COSTT4_P</th>\n",
       "      <th>cost_merged</th>\n",
       "      <th>adm_merged</th>\n",
       "    </tr>\n",
       "  </thead>\n",
       "  <tbody>\n",
       "    <tr>\n",
       "      <th>0</th>\n",
       "      <td>100654</td>\n",
       "      <td>Alabama A &amp; M University</td>\n",
       "      <td>1</td>\n",
       "      <td>2.0</td>\n",
       "      <td>0.7160</td>\n",
       "      <td>0.716006</td>\n",
       "      <td>21924.0</td>\n",
       "      <td>NaN</td>\n",
       "      <td>21924.0</td>\n",
       "      <td>0.7160</td>\n",
       "    </tr>\n",
       "    <tr>\n",
       "      <th>1</th>\n",
       "      <td>100663</td>\n",
       "      <td>University of Alabama at Birmingham</td>\n",
       "      <td>1</td>\n",
       "      <td>2.0</td>\n",
       "      <td>0.8854</td>\n",
       "      <td>0.885352</td>\n",
       "      <td>26248.0</td>\n",
       "      <td>NaN</td>\n",
       "      <td>26248.0</td>\n",
       "      <td>0.8854</td>\n",
       "    </tr>\n",
       "    <tr>\n",
       "      <th>3</th>\n",
       "      <td>100706</td>\n",
       "      <td>University of Alabama in Huntsville</td>\n",
       "      <td>1</td>\n",
       "      <td>2.0</td>\n",
       "      <td>0.7367</td>\n",
       "      <td>0.736724</td>\n",
       "      <td>24869.0</td>\n",
       "      <td>NaN</td>\n",
       "      <td>24869.0</td>\n",
       "      <td>0.7367</td>\n",
       "    </tr>\n",
       "    <tr>\n",
       "      <th>4</th>\n",
       "      <td>100724</td>\n",
       "      <td>Alabama State University</td>\n",
       "      <td>1</td>\n",
       "      <td>2.0</td>\n",
       "      <td>0.9799</td>\n",
       "      <td>0.979913</td>\n",
       "      <td>21938.0</td>\n",
       "      <td>NaN</td>\n",
       "      <td>21938.0</td>\n",
       "      <td>0.9799</td>\n",
       "    </tr>\n",
       "    <tr>\n",
       "      <th>5</th>\n",
       "      <td>100751</td>\n",
       "      <td>The University of Alabama</td>\n",
       "      <td>1</td>\n",
       "      <td>2.0</td>\n",
       "      <td>0.7890</td>\n",
       "      <td>0.789043</td>\n",
       "      <td>31050.0</td>\n",
       "      <td>NaN</td>\n",
       "      <td>31050.0</td>\n",
       "      <td>0.7890</td>\n",
       "    </tr>\n",
       "  </tbody>\n",
       "</table>\n",
       "</div>"
      ],
      "text/plain": [
       "   UNITID                               INSTNM  CONTROL  OPENADMP  ADM_RATE  \\\n",
       "0  100654             Alabama A & M University        1       2.0    0.7160   \n",
       "1  100663  University of Alabama at Birmingham        1       2.0    0.8854   \n",
       "3  100706  University of Alabama in Huntsville        1       2.0    0.7367   \n",
       "4  100724             Alabama State University        1       2.0    0.9799   \n",
       "5  100751            The University of Alabama        1       2.0    0.7890   \n",
       "\n",
       "   ADM_RATE_ALL  COSTT4_A  COSTT4_P  cost_merged  adm_merged  \n",
       "0      0.716006   21924.0       NaN      21924.0      0.7160  \n",
       "1      0.885352   26248.0       NaN      26248.0      0.8854  \n",
       "3      0.736724   24869.0       NaN      24869.0      0.7367  \n",
       "4      0.979913   21938.0       NaN      21938.0      0.9799  \n",
       "5      0.789043   31050.0       NaN      31050.0      0.7890  "
      ]
     },
     "execution_count": 6,
     "metadata": {},
     "output_type": "execute_result"
    }
   ],
   "source": [
    "# dropping rows where both cost columns have null\n",
    "clean_df = adm_df .dropna(subset=['COSTT4_A', 'COSTT4_P'], how='all')\n",
    "# merging cost and admission columns\n",
    "clean_df[\"cost_merged\"] = clean_df[\"COSTT4_A\"].combine_first(clean_df[\"COSTT4_P\"])\n",
    "clean_df[\"adm_merged\"] = clean_df[\"ADM_RATE\"].combine_first(clean_df[\"ADM_RATE_ALL\"])\n",
    "clean_df.head(5)\n"
   ]
  },
  {
   "cell_type": "code",
   "execution_count": 7,
   "metadata": {},
   "outputs": [
    {
     "data": {
      "text/html": [
       "<div>\n",
       "<style scoped>\n",
       "    .dataframe tbody tr th:only-of-type {\n",
       "        vertical-align: middle;\n",
       "    }\n",
       "\n",
       "    .dataframe tbody tr th {\n",
       "        vertical-align: top;\n",
       "    }\n",
       "\n",
       "    .dataframe thead th {\n",
       "        text-align: right;\n",
       "    }\n",
       "</style>\n",
       "<table border=\"1\" class=\"dataframe\">\n",
       "  <thead>\n",
       "    <tr style=\"text-align: right;\">\n",
       "      <th></th>\n",
       "      <th>UNITID</th>\n",
       "      <th>INSTNM</th>\n",
       "      <th>CONTROL</th>\n",
       "      <th>OPENADMP</th>\n",
       "      <th>cost_merged</th>\n",
       "    </tr>\n",
       "  </thead>\n",
       "  <tbody>\n",
       "    <tr>\n",
       "      <th>0</th>\n",
       "      <td>100654</td>\n",
       "      <td>Alabama A &amp; M University</td>\n",
       "      <td>1</td>\n",
       "      <td>2.0</td>\n",
       "      <td>21924.0</td>\n",
       "    </tr>\n",
       "    <tr>\n",
       "      <th>1</th>\n",
       "      <td>100663</td>\n",
       "      <td>University of Alabama at Birmingham</td>\n",
       "      <td>1</td>\n",
       "      <td>2.0</td>\n",
       "      <td>26248.0</td>\n",
       "    </tr>\n",
       "    <tr>\n",
       "      <th>3</th>\n",
       "      <td>100706</td>\n",
       "      <td>University of Alabama in Huntsville</td>\n",
       "      <td>1</td>\n",
       "      <td>2.0</td>\n",
       "      <td>24869.0</td>\n",
       "    </tr>\n",
       "    <tr>\n",
       "      <th>4</th>\n",
       "      <td>100724</td>\n",
       "      <td>Alabama State University</td>\n",
       "      <td>1</td>\n",
       "      <td>2.0</td>\n",
       "      <td>21938.0</td>\n",
       "    </tr>\n",
       "    <tr>\n",
       "      <th>5</th>\n",
       "      <td>100751</td>\n",
       "      <td>The University of Alabama</td>\n",
       "      <td>1</td>\n",
       "      <td>2.0</td>\n",
       "      <td>31050.0</td>\n",
       "    </tr>\n",
       "  </tbody>\n",
       "</table>\n",
       "</div>"
      ],
      "text/plain": [
       "   UNITID                               INSTNM  CONTROL  OPENADMP  cost_merged\n",
       "0  100654             Alabama A & M University        1       2.0      21924.0\n",
       "1  100663  University of Alabama at Birmingham        1       2.0      26248.0\n",
       "3  100706  University of Alabama in Huntsville        1       2.0      24869.0\n",
       "4  100724             Alabama State University        1       2.0      21938.0\n",
       "5  100751            The University of Alabama        1       2.0      31050.0"
      ]
     },
     "execution_count": 7,
     "metadata": {},
     "output_type": "execute_result"
    }
   ],
   "source": [
    "#selecting only the needed columns\n",
    "new_clean_df = clean_df[[\"UNITID\", \"INSTNM\", \"CONTROL\", \"OPENADMP\",\"cost_merged\" ]]\n",
    "new_clean_df.head(5)"
   ]
  },
  {
   "cell_type": "code",
   "execution_count": 8,
   "metadata": {},
   "outputs": [
    {
     "data": {
      "text/html": [
       "<div>\n",
       "<style scoped>\n",
       "    .dataframe tbody tr th:only-of-type {\n",
       "        vertical-align: middle;\n",
       "    }\n",
       "\n",
       "    .dataframe tbody tr th {\n",
       "        vertical-align: top;\n",
       "    }\n",
       "\n",
       "    .dataframe thead th {\n",
       "        text-align: right;\n",
       "    }\n",
       "</style>\n",
       "<table border=\"1\" class=\"dataframe\">\n",
       "  <thead>\n",
       "    <tr style=\"text-align: right;\">\n",
       "      <th></th>\n",
       "      <th>OPENADMP</th>\n",
       "      <th>UNITID</th>\n",
       "    </tr>\n",
       "  </thead>\n",
       "  <tbody>\n",
       "    <tr>\n",
       "      <th>0</th>\n",
       "      <td>1.0</td>\n",
       "      <td>3412</td>\n",
       "    </tr>\n",
       "    <tr>\n",
       "      <th>1</th>\n",
       "      <td>2.0</td>\n",
       "      <td>1883</td>\n",
       "    </tr>\n",
       "  </tbody>\n",
       "</table>\n",
       "</div>"
      ],
      "text/plain": [
       "   OPENADMP  UNITID\n",
       "0       1.0    3412\n",
       "1       2.0    1883"
      ]
     },
     "execution_count": 8,
     "metadata": {},
     "output_type": "execute_result"
    }
   ],
   "source": [
    "# grouping by open adm to get number of colleges in open and non open\n",
    "group = new_clean_df.groupby(\"OPENADMP\")[\"UNITID\"].count()\n",
    "group_df = pd.DataFrame(group)\n",
    "group_df_reset = group_df.reset_index()\n",
    "group_df_reset"
   ]
  },
  {
   "cell_type": "code",
   "execution_count": 229,
   "metadata": {},
   "outputs": [
    {
     "data": {
      "image/png": "[encoded data removed]",
      "text/plain": [
       "<Figure size 640x480 with 1 Axes>"
      ]
     },
     "metadata": {},
     "output_type": "display_data"
    }
   ],
   "source": [
    "# displaying percentage of open vs non open colleges\n",
    "labels = [\"Open Admission\", \"Non Open Admission\"]\n",
    "ax = group_df_reset.plot.pie(y='UNITID', labels=labels, autopct='%1.1f%%')\n",
    "ax.set_ylabel(\" \")\n",
    "ax.legend().set_visible(False)\n",
    "plt.show()"
   ]
  },
  {
   "attachments": {},
   "cell_type": "markdown",
   "metadata": {},
   "source": [
    "## Non Open Admission"
   ]
  },
  {
   "attachments": {},
   "cell_type": "markdown",
   "metadata": {},
   "source": [
    "## Combined"
   ]
  },
  {
   "cell_type": "code",
   "execution_count": 206,
   "metadata": {},
   "outputs": [
    {
     "data": {
      "text/html": [
       "<div>\n",
       "<style scoped>\n",
       "    .dataframe tbody tr th:only-of-type {\n",
       "        vertical-align: middle;\n",
       "    }\n",
       "\n",
       "    .dataframe tbody tr th {\n",
       "        vertical-align: top;\n",
       "    }\n",
       "\n",
       "    .dataframe thead th {\n",
       "        text-align: right;\n",
       "    }\n",
       "</style>\n",
       "<table border=\"1\" class=\"dataframe\">\n",
       "  <thead>\n",
       "    <tr style=\"text-align: right;\">\n",
       "      <th></th>\n",
       "      <th>OPENADMP</th>\n",
       "      <th>CONTROL</th>\n",
       "      <th>cost_merged</th>\n",
       "    </tr>\n",
       "  </thead>\n",
       "  <tbody>\n",
       "    <tr>\n",
       "      <th>0</th>\n",
       "      <td>1.0</td>\n",
       "      <td>1</td>\n",
       "      <td>14090.0</td>\n",
       "    </tr>\n",
       "    <tr>\n",
       "      <th>1</th>\n",
       "      <td>1.0</td>\n",
       "      <td>2</td>\n",
       "      <td>23600.0</td>\n",
       "    </tr>\n",
       "    <tr>\n",
       "      <th>2</th>\n",
       "      <td>1.0</td>\n",
       "      <td>3</td>\n",
       "      <td>23356.0</td>\n",
       "    </tr>\n",
       "    <tr>\n",
       "      <th>3</th>\n",
       "      <td>2.0</td>\n",
       "      <td>1</td>\n",
       "      <td>22295.0</td>\n",
       "    </tr>\n",
       "    <tr>\n",
       "      <th>4</th>\n",
       "      <td>2.0</td>\n",
       "      <td>2</td>\n",
       "      <td>44954.0</td>\n",
       "    </tr>\n",
       "    <tr>\n",
       "      <th>5</th>\n",
       "      <td>2.0</td>\n",
       "      <td>3</td>\n",
       "      <td>30837.0</td>\n",
       "    </tr>\n",
       "  </tbody>\n",
       "</table>\n",
       "</div>"
      ],
      "text/plain": [
       "   OPENADMP  CONTROL  cost_merged\n",
       "0       1.0        1      14090.0\n",
       "1       1.0        2      23600.0\n",
       "2       1.0        3      23356.0\n",
       "3       2.0        1      22295.0\n",
       "4       2.0        2      44954.0\n",
       "5       2.0        3      30837.0"
      ]
     },
     "execution_count": 206,
     "metadata": {},
     "output_type": "execute_result"
    }
   ],
   "source": [
    "# grouping by openadm and control\n",
    "\n",
    "combine = new_clean_df.groupby([\"OPENADMP\", \"CONTROL\"])[\"cost_merged\"].mean().round()\n",
    "combine_df = pd.DataFrame(combine)\n",
    "combine_df_reset = combine_df.reset_index()\n",
    "combine_df_reset\n",
    "\n"
   ]
  },
  {
   "cell_type": "code",
   "execution_count": 12,
   "metadata": {},
   "outputs": [
    {
     "data": {
      "text/html": [
       "<div>\n",
       "<style scoped>\n",
       "    .dataframe tbody tr th:only-of-type {\n",
       "        vertical-align: middle;\n",
       "    }\n",
       "\n",
       "    .dataframe tbody tr th {\n",
       "        vertical-align: top;\n",
       "    }\n",
       "\n",
       "    .dataframe thead th {\n",
       "        text-align: right;\n",
       "    }\n",
       "</style>\n",
       "<table border=\"1\" class=\"dataframe\">\n",
       "  <thead>\n",
       "    <tr style=\"text-align: right;\">\n",
       "      <th>OPENADMP</th>\n",
       "      <th>1.0</th>\n",
       "      <th>2.0</th>\n",
       "    </tr>\n",
       "    <tr>\n",
       "      <th>CONTROL</th>\n",
       "      <th></th>\n",
       "      <th></th>\n",
       "    </tr>\n",
       "  </thead>\n",
       "  <tbody>\n",
       "    <tr>\n",
       "      <th>1</th>\n",
       "      <td>14090.0</td>\n",
       "      <td>22295.0</td>\n",
       "    </tr>\n",
       "    <tr>\n",
       "      <th>2</th>\n",
       "      <td>23600.0</td>\n",
       "      <td>44954.0</td>\n",
       "    </tr>\n",
       "    <tr>\n",
       "      <th>3</th>\n",
       "      <td>23356.0</td>\n",
       "      <td>30837.0</td>\n",
       "    </tr>\n",
       "  </tbody>\n",
       "</table>\n",
       "</div>"
      ],
      "text/plain": [
       "OPENADMP      1.0      2.0\n",
       "CONTROL                   \n",
       "1         14090.0  22295.0\n",
       "2         23600.0  44954.0\n",
       "3         23356.0  30837.0"
      ]
     },
     "execution_count": 12,
     "metadata": {},
     "output_type": "execute_result"
    }
   ],
   "source": [
    "#making the df to pivot so it can be used to plot\n",
    "pivot = pd.pivot_table(data=combine_df_reset, index=['CONTROL'], \n",
    "                       columns=['OPENADMP'], values='cost_merged')\n",
    "pivot"
   ]
  },
  {
   "cell_type": "code",
   "execution_count": 164,
   "metadata": {},
   "outputs": [
    {
     "data": {
      "image/png": "[encoded data removed]",
      "text/plain": [
       "<Figure size 800x600 with 1 Axes>"
      ]
     },
     "metadata": {},
     "output_type": "display_data"
    }
   ],
   "source": [
    "#plotting barchart\n",
    "cb = pivot.plot(kind='bar', figsize=(8,6), title=\"Cost of Attendance for Colleges with Open Admission vs Non Open Admission Policy\")\n",
    "combined_labels = ['Public', 'Private NonProfit', 'Private Profit']\n",
    "cb.set_xticklabels(combined_labels, rotation=45)\n",
    "cb.set_xlabel(\"\")\n",
    "cb.set_ylabel(\"Cost of Attendance\")\n",
    "plt.legend([\"Open Admission\", \"Non Open Admission\"])\n",
    "for p in cb.patches:\n",
    "    cb.annotate(str(p.get_height()), (p.get_x() * 1.005, p.get_height() * 1.005))\n"
   ]
  },
  {
   "attachments": {},
   "cell_type": "markdown",
   "metadata": {},
   "source": [
    "## Null Hypothesis for Cost in public and private colleges"
   ]
  },
  {
   "cell_type": "code",
   "execution_count": 222,
   "metadata": {},
   "outputs": [
    {
     "name": "stdout",
     "output_type": "stream",
     "text": [
      "There is significant difference in the average cost between public and private colleges.\n"
     ]
    },
    {
     "data": {
      "text/plain": [
       "0.0"
      ]
     },
     "execution_count": 222,
     "metadata": {},
     "output_type": "execute_result"
    }
   ],
   "source": [
    "# Conducting t test for public and private college cost\n",
    "# NULL HYPOTHESIS: There is no difference between public and private\n",
    "\n",
    "\n",
    "# Split the dataset into public and private colleges\n",
    "public_colleges = new_clean_df[new_clean_df['CONTROL'] == 1]['cost_merged']\n",
    "private_colleges = new_clean_df[(new_clean_df['CONTROL'] == 3)| (new_clean_df['CONTROL'] == 2)]['cost_merged']\n",
    "\n",
    "# Perform independent two-sample t-test assuming equal variances\n",
    "t_statistic, p_value = ttest_ind(public_colleges, private_colleges, equal_var=False)\n",
    "\n",
    "# Set the significance level\n",
    "alpha = 0.05\n",
    "\n",
    "# Compare p-value with the significance level\n",
    "if p_value < alpha:\n",
    "    print(\"There is significant difference in the average cost between public and private colleges.\")\n",
    "else:\n",
    "    print(\"There is no significant difference in the average cost between public and private colleges.\")\n",
    "\n",
    "p_value"
   ]
  },
  {
   "attachments": {},
   "cell_type": "markdown",
   "metadata": {},
   "source": [
    "## Null Hypothesis For Open and Non Open Admission Colleges"
   ]
  },
  {
   "cell_type": "code",
   "execution_count": 224,
   "metadata": {},
   "outputs": [
    {
     "name": "stdout",
     "output_type": "stream",
     "text": [
      "There is significant difference in the average cost between open and non open admission colleges.\n"
     ]
    },
    {
     "data": {
      "text/plain": [
       "1.0504334677664811e-266"
      ]
     },
     "execution_count": 224,
     "metadata": {},
     "output_type": "execute_result"
    }
   ],
   "source": [
    "# Conducting t test for open and non open admission college cost\n",
    "# NULL HYPOTHESIS: There is  no difference between open and non open admission\n",
    "\n",
    "\n",
    "# Split the dataset into public and private colleges\n",
    "open_colleges = new_clean_df[new_clean_df['OPENADMP'] == 1]['cost_merged']\n",
    "nonopen_colleges = new_clean_df[(new_clean_df['OPENADMP'] == 2) | (new_clean_df['OPENADMP'] == 3)]['cost_merged']\n",
    "\n",
    "# Perform independent two-sample t-test assuming equal variances\n",
    "t_statistic, p_value = ttest_ind(open_colleges, nonopen_colleges, equal_var=False)\n",
    "\n",
    "# Set the significance level\n",
    "alpha = 0.05\n",
    "\n",
    "# Compare p-value with the significance level\n",
    "if p_value < alpha:\n",
    "    print(\"There is significant difference in the average cost between open and non open admission colleges.\")\n",
    "else:\n",
    "    print(\"There is no significant difference in the average cost between open and non open admission colleges.\")\n",
    "\n",
    "p_value"
   ]
  },
  {
   "attachments": {},
   "cell_type": "markdown",
   "metadata": {},
   "source": [
    "\n",
    "## Cost of Attendance vs Admission Correlation testing (Non Open Admission)"
   ]
  },
  {
   "cell_type": "code",
   "execution_count": 178,
   "metadata": {},
   "outputs": [
    {
     "data": {
      "text/html": [
       "<div>\n",
       "<style scoped>\n",
       "    .dataframe tbody tr th:only-of-type {\n",
       "        vertical-align: middle;\n",
       "    }\n",
       "\n",
       "    .dataframe tbody tr th {\n",
       "        vertical-align: top;\n",
       "    }\n",
       "\n",
       "    .dataframe thead th {\n",
       "        text-align: right;\n",
       "    }\n",
       "</style>\n",
       "<table border=\"1\" class=\"dataframe\">\n",
       "  <thead>\n",
       "    <tr style=\"text-align: right;\">\n",
       "      <th></th>\n",
       "      <th>UNITID</th>\n",
       "      <th>INSTNM</th>\n",
       "      <th>CONTROL</th>\n",
       "      <th>OPENADMP</th>\n",
       "      <th>cost_merged</th>\n",
       "      <th>adm_merged</th>\n",
       "    </tr>\n",
       "  </thead>\n",
       "  <tbody>\n",
       "    <tr>\n",
       "      <th>0</th>\n",
       "      <td>100654</td>\n",
       "      <td>Alabama A &amp; M University</td>\n",
       "      <td>1</td>\n",
       "      <td>2.0</td>\n",
       "      <td>21924.0</td>\n",
       "      <td>72.0</td>\n",
       "    </tr>\n",
       "    <tr>\n",
       "      <th>1</th>\n",
       "      <td>100663</td>\n",
       "      <td>University of Alabama at Birmingham</td>\n",
       "      <td>1</td>\n",
       "      <td>2.0</td>\n",
       "      <td>26248.0</td>\n",
       "      <td>89.0</td>\n",
       "    </tr>\n",
       "    <tr>\n",
       "      <th>3</th>\n",
       "      <td>100706</td>\n",
       "      <td>University of Alabama in Huntsville</td>\n",
       "      <td>1</td>\n",
       "      <td>2.0</td>\n",
       "      <td>24869.0</td>\n",
       "      <td>74.0</td>\n",
       "    </tr>\n",
       "    <tr>\n",
       "      <th>4</th>\n",
       "      <td>100724</td>\n",
       "      <td>Alabama State University</td>\n",
       "      <td>1</td>\n",
       "      <td>2.0</td>\n",
       "      <td>21938.0</td>\n",
       "      <td>98.0</td>\n",
       "    </tr>\n",
       "    <tr>\n",
       "      <th>5</th>\n",
       "      <td>100751</td>\n",
       "      <td>The University of Alabama</td>\n",
       "      <td>1</td>\n",
       "      <td>2.0</td>\n",
       "      <td>31050.0</td>\n",
       "      <td>79.0</td>\n",
       "    </tr>\n",
       "  </tbody>\n",
       "</table>\n",
       "</div>"
      ],
      "text/plain": [
       "   UNITID                               INSTNM  CONTROL  OPENADMP  \\\n",
       "0  100654             Alabama A & M University        1       2.0   \n",
       "1  100663  University of Alabama at Birmingham        1       2.0   \n",
       "3  100706  University of Alabama in Huntsville        1       2.0   \n",
       "4  100724             Alabama State University        1       2.0   \n",
       "5  100751            The University of Alabama        1       2.0   \n",
       "\n",
       "   cost_merged  adm_merged  \n",
       "0      21924.0        72.0  \n",
       "1      26248.0        89.0  \n",
       "3      24869.0        74.0  \n",
       "4      21938.0        98.0  \n",
       "5      31050.0        79.0  "
      ]
     },
     "execution_count": 178,
     "metadata": {},
     "output_type": "execute_result"
    }
   ],
   "source": [
    "# filtering to get all non open admission  public colleges\n",
    "adm_clean_df = clean_df[[\"UNITID\", \"INSTNM\", \"CONTROL\", \"OPENADMP\",\"cost_merged\", \"adm_merged\" ]]\n",
    "adm_loc = adm_clean_df.loc[(adm_clean_df[\"OPENADMP\"]== 2.0) | (adm_clean_df[\"OPENADMP\"]== 3.0)]\n",
    "\n",
    "#dropping null values if any in admission requiremnt column\n",
    "adm_cost = adm_loc .dropna(subset=[\"adm_merged\"])\n",
    "adm_cost[\"adm_merged\"] = (adm_cost[[\"adm_merged\"]]*100).round()\n",
    "adm_cost.head(5)\n"
   ]
  },
  {
   "cell_type": "code",
   "execution_count": 172,
   "metadata": {},
   "outputs": [
    {
     "data": {
      "text/plain": [
       "<Axes: >"
      ]
     },
     "execution_count": 172,
     "metadata": {},
     "output_type": "execute_result"
    },
    {
     "data": {
      "image/png": "[encoded data removed]",
      "text/plain": [
       "<Figure size 640x480 with 1 Axes>"
      ]
     },
     "metadata": {},
     "output_type": "display_data"
    }
   ],
   "source": [
    "#box plot for admission column\n",
    "adm_cost.boxplot(column=['adm_merged'])"
   ]
  },
  {
   "cell_type": "code",
   "execution_count": 177,
   "metadata": {},
   "outputs": [
    {
     "data": {
      "text/html": [
       "<div>\n",
       "<style scoped>\n",
       "    .dataframe tbody tr th:only-of-type {\n",
       "        vertical-align: middle;\n",
       "    }\n",
       "\n",
       "    .dataframe tbody tr th {\n",
       "        vertical-align: top;\n",
       "    }\n",
       "\n",
       "    .dataframe thead th {\n",
       "        text-align: right;\n",
       "    }\n",
       "</style>\n",
       "<table border=\"1\" class=\"dataframe\">\n",
       "  <thead>\n",
       "    <tr style=\"text-align: right;\">\n",
       "      <th></th>\n",
       "      <th>UNITID</th>\n",
       "      <th>INSTNM</th>\n",
       "      <th>CONTROL</th>\n",
       "      <th>OPENADMP</th>\n",
       "      <th>cost_merged</th>\n",
       "      <th>adm_merged</th>\n",
       "    </tr>\n",
       "  </thead>\n",
       "  <tbody>\n",
       "    <tr>\n",
       "      <th>0</th>\n",
       "      <td>100654</td>\n",
       "      <td>Alabama A &amp; M University</td>\n",
       "      <td>1</td>\n",
       "      <td>2.0</td>\n",
       "      <td>21924.0</td>\n",
       "      <td>72.0</td>\n",
       "    </tr>\n",
       "    <tr>\n",
       "      <th>1</th>\n",
       "      <td>100663</td>\n",
       "      <td>University of Alabama at Birmingham</td>\n",
       "      <td>1</td>\n",
       "      <td>2.0</td>\n",
       "      <td>26248.0</td>\n",
       "      <td>89.0</td>\n",
       "    </tr>\n",
       "    <tr>\n",
       "      <th>3</th>\n",
       "      <td>100706</td>\n",
       "      <td>University of Alabama in Huntsville</td>\n",
       "      <td>1</td>\n",
       "      <td>2.0</td>\n",
       "      <td>24869.0</td>\n",
       "      <td>74.0</td>\n",
       "    </tr>\n",
       "    <tr>\n",
       "      <th>4</th>\n",
       "      <td>100724</td>\n",
       "      <td>Alabama State University</td>\n",
       "      <td>1</td>\n",
       "      <td>2.0</td>\n",
       "      <td>21938.0</td>\n",
       "      <td>98.0</td>\n",
       "    </tr>\n",
       "    <tr>\n",
       "      <th>5</th>\n",
       "      <td>100751</td>\n",
       "      <td>The University of Alabama</td>\n",
       "      <td>1</td>\n",
       "      <td>2.0</td>\n",
       "      <td>31050.0</td>\n",
       "      <td>79.0</td>\n",
       "    </tr>\n",
       "  </tbody>\n",
       "</table>\n",
       "</div>"
      ],
      "text/plain": [
       "   UNITID                               INSTNM  CONTROL  OPENADMP  \\\n",
       "0  100654             Alabama A & M University        1       2.0   \n",
       "1  100663  University of Alabama at Birmingham        1       2.0   \n",
       "3  100706  University of Alabama in Huntsville        1       2.0   \n",
       "4  100724             Alabama State University        1       2.0   \n",
       "5  100751            The University of Alabama        1       2.0   \n",
       "\n",
       "   cost_merged  adm_merged  \n",
       "0      21924.0        72.0  \n",
       "1      26248.0        89.0  \n",
       "3      24869.0        74.0  \n",
       "4      21938.0        98.0  \n",
       "5      31050.0        79.0  "
      ]
     },
     "execution_count": 177,
     "metadata": {},
     "output_type": "execute_result"
    }
   ],
   "source": [
    "# removing outliers using iqr\n",
    "# Calculate the IQR for each column\n",
    "Q1_col1 = adm_cost['cost_merged'].quantile(0.25)\n",
    "Q3_col1 = adm_cost['cost_merged'].quantile(0.75)\n",
    "IQR_col1 = Q3_col1 - Q1_col1\n",
    "\n",
    "Q1_col2 = adm_cost['adm_merged'].quantile(0.25)\n",
    "Q3_col2 = adm_cost['adm_merged'].quantile(0.75)\n",
    "IQR_col2 = Q3_col2 - Q1_col2\n",
    "\n",
    "# Define the lower and upper bounds for outlier detection\n",
    "lower_bound_col1 = Q1_col1 - 1.5 * IQR_col1\n",
    "upper_bound_col1 = Q3_col1 + 1.5 * IQR_col1\n",
    "\n",
    "lower_bound_col2 = Q1_col2 - 1.5 * IQR_col2\n",
    "upper_bound_col2 = Q3_col2 + 1.5 * IQR_col2\n",
    "\n",
    "\n",
    "# Filter out rows with values outside the lower and upper bounds for both columns\n",
    "df_no_outliers = adm_cost[(adm_cost['cost_merged'] >= lower_bound_col1) & \n",
    "                          (adm_cost['cost_merged'] <= upper_bound_col1) & \n",
    "                          (adm_cost['adm_merged'] >= lower_bound_col2) & \n",
    "                          (adm_cost['adm_merged'] <= upper_bound_col2)]\n",
    "df_no_outliers.head(5)"
   ]
  },
  {
   "cell_type": "code",
   "execution_count": 175,
   "metadata": {},
   "outputs": [
    {
     "name": "stdout",
     "output_type": "stream",
     "text": [
      "The correlation between cost and admission rate for public is-0.2\n"
     ]
    },
    {
     "data": {
      "image/png": "[encoded data removed]",
      "text/plain": [
       "<Figure size 640x480 with 1 Axes>"
      ]
     },
     "metadata": {},
     "output_type": "display_data"
    }
   ],
   "source": [
    "# creating scatter plot for admission rate vs cost(without outliers)\n",
    "\n",
    "pb_sc_ot= df_no_outliers.plot.scatter(x=\"cost_merged\", y=\"adm_merged\", \n",
    "                                   title=\"Cost of Attendance vs Admission Rate for Public Colleges\")\n",
    "pb_sc_ot.set_xlabel(\"Cost of Attendance\")\n",
    "pb_sc_ot.set_ylabel(\"Admission Rate\")\n",
    "cost = df_no_outliers[\"cost_merged\"]\n",
    "adm_rate = df_no_outliers[\"adm_merged\"]\n",
    "m, b = np.polyfit(cost, adm_rate, 1)\n",
    "plt.plot(cost, m*cost+b, color='red', label='x={:.2f}y+{:.2f}'.format(m,b))\n",
    "\n",
    "correlation = st.pearsonr(cost, adm_rate)\n",
    "print(f\"The correlation between cost and admission rate for public is{round(correlation[0],2)}\")\n"
   ]
  }
 ],
 "metadata": {
  "kernelspec": {
   "display_name": "base",
   "language": "python",
   "name": "python3"
  },
  "language_info": {
   "codemirror_mode": {
    "name": "ipython",
    "version": 3
   },
   "file_extension": ".py",
   "mimetype": "text/x-python",
   "name": "python",
   "nbconvert_exporter": "python",
   "pygments_lexer": "ipython3",
   "version": "3.10.9"
  },
  "orig_nbformat": 4
 },
 "nbformat": 4,
 "nbformat_minor": 2
}
